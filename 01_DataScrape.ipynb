{
 "cells": [
  {
   "cell_type": "markdown",
   "metadata": {},
   "source": [
    "# Scraping the weather data "
   ]
  },
  {
   "cell_type": "code",
   "execution_count": 1,
   "metadata": {
    "collapsed": true
   },
   "outputs": [],
   "source": [
    "import datascrape as ds\n",
    "from datetime import date"
   ]
  },
  {
   "cell_type": "markdown",
   "metadata": {},
   "source": [
    "We manually picked 18 stations surrounding the Boston metropolitan area and neighbored states. Detailed code is within the datascrape module."
   ]
  },
  {
   "cell_type": "code",
   "execution_count": 4,
   "metadata": {
    "collapsed": false
   },
   "outputs": [
    {
     "name": "stdout",
     "output_type": "stream",
     "text": [
      "{'KBOS': 'Boston', 'KNYC': 'New York', 'KHPN': 'Purchase', 'KBAF': 'Westfield', 'KPSF': 'Pittsfield', 'KOWD': 'Norwood', 'KCEF': 'Chicopee', 'KBDR': 'Bridgeport', 'KBED': 'Bedford', 'KORH': 'Worcester', 'KUUU': 'Newport', 'KEWB': 'New Bedford', 'KFMH': 'Cape Cod', 'KALB': 'Albany', 'KLWM': 'Lawrence', 'KPVD': 'Providence', 'KPYM': 'Carver', 'KHVN': 'New Haven'}\n"
     ]
    }
   ],
   "source": [
    "print(ds.munis)"
   ]
  },
  {
   "cell_type": "code",
   "execution_count": 3,
   "metadata": {
    "collapsed": false,
    "scrolled": false
   },
   "outputs": [
    {
     "name": "stdout",
     "output_type": "stream",
     "text": [
      "KUUU\n",
      "KEWB\n",
      "KOWD\n",
      "KNYC\n",
      "KBOS\n",
      "KHVN\n",
      "KBED\n",
      "KBAF\n",
      "KPVD\n",
      "KBUF\n",
      "KLWM\n",
      "KBDR\n",
      "KPSF\n",
      "KCEF\n",
      "KROC\n",
      "KALB\n",
      "KFMH\n",
      "KHPN\n",
      "KORH\n",
      "KPYM\n"
     ]
    }
   ],
   "source": [
    "# get data of munis from 1960\n",
    "for muni in ds.munis:\n",
    "    print(muni)\n",
    "    ds.fetch_data(muni, date(1960, 1, 1), date(2015, 12, 31))"
   ]
  },
  {
   "cell_type": "code",
   "execution_count": 4,
   "metadata": {
    "collapsed": false,
    "scrolled": true
   },
   "outputs": [
    {
     "name": "stdout",
     "output_type": "stream",
     "text": [
      "91\n",
      "Index(['1973-1-1', '1973-1-2', '1973-1-3', '1973-1-4', '1973-1-5', '1973-1-6',\n",
      "       '1973-1-7', '1973-1-8', '1973-1-9', '1973-1-10', '1973-1-11',\n",
      "       '1973-1-12', '1973-1-13', '1973-1-14', '1973-1-15', '1973-1-16',\n",
      "       '1973-1-17', '1973-1-18', '1973-1-19', '1973-1-20', '1973-1-21',\n",
      "       '1973-1-22', '1973-1-23', '1973-1-24', '1973-1-25', '1973-1-26',\n",
      "       '1973-1-27', '1973-1-28', '1973-1-29', '1973-1-30', '1973-1-31',\n",
      "       '1973-2-1', '1973-2-2', '1973-2-3', '1973-2-4', '1973-2-5', '1973-2-6',\n",
      "       '1973-2-7', '1973-2-8', '1973-2-9', '1973-2-10', '1973-2-11',\n",
      "       '1973-2-12', '1973-2-13', '1973-2-14', '1973-2-15', '1973-2-16',\n",
      "       '1973-2-17', '1973-2-18', '1973-2-19', '1973-2-20', '1973-2-21',\n",
      "       '1973-2-22', '1973-2-23', '1973-2-24', '1973-2-25', '1973-2-26',\n",
      "       '1973-2-27', '1973-2-28', '1973-3-1', '1973-3-2', '1973-3-3',\n",
      "       '1973-3-4', '1973-3-5', '1973-3-6', '1973-3-7', '1973-3-8', '1973-3-9',\n",
      "       '1973-3-10', '1973-3-11', '1973-3-12', '1973-3-13', '1973-3-14',\n",
      "       '1973-3-15', '1973-3-16', '1973-3-17', '1973-3-18', '1973-3-19',\n",
      "       '1973-3-20', '1973-3-21', '1973-3-22', '1973-3-23', '1973-3-24',\n",
      "       '1973-3-25', '1973-3-26', '1973-3-27', '1973-3-28', '1973-3-29',\n",
      "       '1973-3-30', '1973-3-31', '1973-4-1'],\n",
      "      dtype='object', name='EST')\n"
     ]
    }
   ],
   "source": [
    "df = ds.fetch_data(\"KORH\", date(1973, 1, 1), date(1973, 4, 1))\n",
    "print(len(df.index))\n",
    "print(df.index)"
   ]
  },
  {
   "cell_type": "code",
   "execution_count": 12,
   "metadata": {
    "collapsed": false
   },
   "outputs": [],
   "source": [
    "dd = ds.dictdf(ds.munis, date(1960, 1, 1), date(2015, 12, 31))"
   ]
  },
  {
   "cell_type": "code",
   "execution_count": 13,
   "metadata": {
    "collapsed": false
   },
   "outputs": [
    {
     "name": "stdout",
     "output_type": "stream",
     "text": [
      "KEWB 4468\n",
      "KPSF 4468\n",
      "KNYC 4468\n",
      "KBOS 4468\n",
      "KHVN 4468\n",
      "KPYM 4468\n",
      "KBED 4468\n",
      "KBAF 4468\n",
      "KORH 4468\n",
      "KBUF 4468\n",
      "KCEF 4468\n",
      "KBDR 4468\n",
      "KUUU 4468\n",
      "KLWM 4468\n",
      "KROC 4468\n",
      "KALB 4468\n",
      "KFMH 4468\n",
      "KHPN 4468\n",
      "KOWD 4468\n",
      "KPVD 4468\n"
     ]
    }
   ],
   "source": [
    "for muni, df in dd.items():\n",
    "    print(muni, len(df))"
   ]
  },
  {
   "cell_type": "code",
   "execution_count": null,
   "metadata": {
    "collapsed": true
   },
   "outputs": [],
   "source": []
  }
 ],
 "metadata": {
  "kernelspec": {
   "display_name": "Python 3",
   "language": "python",
   "name": "python3"
  },
  "language_info": {
   "codemirror_mode": {
    "name": "ipython",
    "version": 3
   },
   "file_extension": ".py",
   "mimetype": "text/x-python",
   "name": "python",
   "nbconvert_exporter": "python",
   "pygments_lexer": "ipython3",
   "version": "3.5.1"
  }
 },
 "nbformat": 4,
 "nbformat_minor": 0
}
