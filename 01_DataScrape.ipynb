{
 "cells": [
  {
   "cell_type": "code",
   "execution_count": 1,
   "metadata": {
    "collapsed": true
   },
   "outputs": [],
   "source": [
    "import datascrape as ds\n",
    "from datetime import date"
   ]
  },
  {
   "cell_type": "code",
   "execution_count": 2,
   "metadata": {
    "collapsed": false
   },
   "outputs": [
    {
     "name": "stdout",
     "output_type": "stream",
     "text": [
      "{'KCEF': 'Chicopee', 'KBED': 'Bedford', 'KPSF': 'Pittsfield', 'KOWD': 'Norwood', 'KEWB': 'New Bedford', 'KLWM': 'Lawrence', 'KBOS': 'Boston', 'KBAF': 'Westfield', 'KPYM': 'Carver', 'KORH': 'Worcester'}\n"
     ]
    }
   ],
   "source": [
    "print(ds.munis)"
   ]
  },
  {
   "cell_type": "code",
   "execution_count": 3,
   "metadata": {
    "collapsed": false,
    "scrolled": false
   },
   "outputs": [
    {
     "name": "stdout",
     "output_type": "stream",
     "text": [
      "KCEF\n",
      "KBED\n",
      "KPSF\n",
      "KOWD\n",
      "KEWB\n",
      "KLWM\n",
      "KBOS\n",
      "KBAF\n",
      "KPYM\n",
      "KORH\n"
     ]
    }
   ],
   "source": [
    "# get data of munis from 1960\n",
    "for muni in ds.munis:\n",
    "    print(muni)\n",
    "    ds.fetch_data(muni, date(1960, 1, 1), date(2015, 12, 31))"
   ]
  },
  {
   "cell_type": "code",
   "execution_count": 4,
   "metadata": {
    "collapsed": false,
    "scrolled": true
   },
   "outputs": [
    {
     "name": "stdout",
     "output_type": "stream",
     "text": [
      "91\n",
      "Index(['1973-1-1', '1973-1-2', '1973-1-3', '1973-1-4', '1973-1-5', '1973-1-6',\n",
      "       '1973-1-7', '1973-1-8', '1973-1-9', '1973-1-10', '1973-1-11',\n",
      "       '1973-1-12', '1973-1-13', '1973-1-14', '1973-1-15', '1973-1-16',\n",
      "       '1973-1-17', '1973-1-18', '1973-1-19', '1973-1-20', '1973-1-21',\n",
      "       '1973-1-22', '1973-1-23', '1973-1-24', '1973-1-25', '1973-1-26',\n",
      "       '1973-1-27', '1973-1-28', '1973-1-29', '1973-1-30', '1973-1-31',\n",
      "       '1973-2-1', '1973-2-2', '1973-2-3', '1973-2-4', '1973-2-5', '1973-2-6',\n",
      "       '1973-2-7', '1973-2-8', '1973-2-9', '1973-2-10', '1973-2-11',\n",
      "       '1973-2-12', '1973-2-13', '1973-2-14', '1973-2-15', '1973-2-16',\n",
      "       '1973-2-17', '1973-2-18', '1973-2-19', '1973-2-20', '1973-2-21',\n",
      "       '1973-2-22', '1973-2-23', '1973-2-24', '1973-2-25', '1973-2-26',\n",
      "       '1973-2-27', '1973-2-28', '1973-3-1', '1973-3-2', '1973-3-3',\n",
      "       '1973-3-4', '1973-3-5', '1973-3-6', '1973-3-7', '1973-3-8', '1973-3-9',\n",
      "       '1973-3-10', '1973-3-11', '1973-3-12', '1973-3-13', '1973-3-14',\n",
      "       '1973-3-15', '1973-3-16', '1973-3-17', '1973-3-18', '1973-3-19',\n",
      "       '1973-3-20', '1973-3-21', '1973-3-22', '1973-3-23', '1973-3-24',\n",
      "       '1973-3-25', '1973-3-26', '1973-3-27', '1973-3-28', '1973-3-29',\n",
      "       '1973-3-30', '1973-3-31', '1973-4-1'],\n",
      "      dtype='object', name='EST')\n"
     ]
    }
   ],
   "source": [
    "df = ds.fetch_data(\"KORH\", date(1973, 1, 1), date(1973, 4, 1))\n",
    "print(len(df.index))\n",
    "print(df.index)"
   ]
  },
  {
   "cell_type": "code",
   "execution_count": 5,
   "metadata": {
    "collapsed": false
   },
   "outputs": [],
   "source": [
    "# returns dictionary of df's of municipalities with the intersection of available dates\n",
    "dd = ds.dictdf(ds.munis, date(1973, 1, 1), date(1973, 4, 1))"
   ]
  },
  {
   "cell_type": "code",
   "execution_count": 6,
   "metadata": {
    "collapsed": false
   },
   "outputs": [
    {
     "name": "stdout",
     "output_type": "stream",
     "text": [
      "2\n",
      "2\n",
      "2\n",
      "2\n",
      "2\n",
      "2\n",
      "2\n",
      "2\n",
      "2\n",
      "2\n"
     ]
    }
   ],
   "source": [
    "for muni, df in dd.items():\n",
    "    print(len(df))"
   ]
  },
  {
   "cell_type": "code",
   "execution_count": 7,
   "metadata": {
    "collapsed": false
   },
   "outputs": [
    {
     "name": "stdout",
     "output_type": "stream",
     "text": [
      "Index(['1973-1-22', '1973-3-20'], dtype='object', name='EST')\n"
     ]
    }
   ],
   "source": [
    "print(dd[\"KORH\"].index)"
   ]
  },
  {
   "cell_type": "code",
   "execution_count": 8,
   "metadata": {
    "collapsed": false
   },
   "outputs": [],
   "source": [
    "dd = ds.dictdf(ds.munis, date(1960, 1, 1), date(2015, 12, 31))"
   ]
  },
  {
   "cell_type": "code",
   "execution_count": 9,
   "metadata": {
    "collapsed": false
   },
   "outputs": [
    {
     "name": "stdout",
     "output_type": "stream",
     "text": [
      "KCEF 12494\n",
      "KBAF 12494\n",
      "KOWD 12494\n",
      "KEWB 12494\n",
      "KBED 12494\n",
      "KBOS 12494\n",
      "KPSF 12494\n",
      "KLWM 12494\n",
      "KPYM 12494\n",
      "KORH 12494\n"
     ]
    }
   ],
   "source": [
    "for muni, df in dd.items():\n",
    "    print(muni, len(df))"
   ]
  },
  {
   "cell_type": "code",
   "execution_count": null,
   "metadata": {
    "collapsed": true
   },
   "outputs": [],
   "source": []
  }
 ],
 "metadata": {
  "kernelspec": {
   "display_name": "Python 3",
   "language": "python",
   "name": "python3"
  },
  "language_info": {
   "codemirror_mode": {
    "name": "ipython",
    "version": 3
   },
   "file_extension": ".py",
   "mimetype": "text/x-python",
   "name": "python",
   "nbconvert_exporter": "python",
   "pygments_lexer": "ipython3",
   "version": "3.5.1"
  }
 },
 "nbformat": 4,
 "nbformat_minor": 0
}
