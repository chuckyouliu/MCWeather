{
 "cells": [
  {
   "cell_type": "code",
   "execution_count": 1,
   "metadata": {
    "collapsed": false
   },
   "outputs": [
    {
     "name": "stderr",
     "output_type": "stream",
     "text": [
      "/Users/charlesliu/anaconda/envs/py35/lib/python3.5/site-packages/IPython/html.py:14: ShimWarning: The `IPython.html` package has been deprecated. You should import from `notebook` instead. `IPython.html.widgets` has moved to `ipywidgets`.\n",
      "  \"`IPython.html.widgets` has moved to `ipywidgets`.\", ShimWarning)\n"
     ]
    }
   ],
   "source": [
    "%matplotlib inline\n",
    "import datascrape as ds\n",
    "from datetime import date\n",
    "import numpy as np\n",
    "import scipy as sci\n",
    "import matplotlib.pyplot as plt\n",
    "import pandas as pd\n",
    "import seaborn as sns\n",
    "from itertools import product\n",
    "sns.set_style('whitegrid')"
   ]
  },
  {
   "cell_type": "code",
   "execution_count": 2,
   "metadata": {
    "collapsed": true
   },
   "outputs": [],
   "source": [
    "df = pd.read_csv('data/KBOS-2012.csv')"
   ]
  },
  {
   "cell_type": "code",
   "execution_count": 3,
   "metadata": {
    "collapsed": false
   },
   "outputs": [
    {
     "data": {
      "text/plain": [
       "Index(['EST', 'Max TemperatureF', 'Mean TemperatureF', 'Min TemperatureF',\n",
       "       'Max Dew PointF', 'MeanDew PointF', 'Min DewpointF', 'Max Humidity',\n",
       "       ' Mean Humidity', ' Min Humidity', ' Max Sea Level PressureIn',\n",
       "       ' Mean Sea Level PressureIn', ' Min Sea Level PressureIn',\n",
       "       ' Max VisibilityMiles', ' Mean VisibilityMiles', ' Min VisibilityMiles',\n",
       "       ' Max Wind SpeedMPH', ' Mean Wind SpeedMPH', ' Max Gust SpeedMPH',\n",
       "       'PrecipitationIn', ' CloudCover', ' Events', ' WindDirDegrees'],\n",
       "      dtype='object')"
      ]
     },
     "execution_count": 3,
     "metadata": {},
     "output_type": "execute_result"
    }
   ],
   "source": [
    "df.columns"
   ]
  },
  {
   "cell_type": "code",
   "execution_count": 4,
   "metadata": {
    "collapsed": true
   },
   "outputs": [],
   "source": [
    "# All data\n",
    "dd = ds.dictdf(ds.munis, date(1960, 1, 1), date(2015, 12, 31))"
   ]
  },
  {
   "cell_type": "markdown",
   "metadata": {},
   "source": [
    "### Preprocessing the data\n",
    "We quantize the measured precipitation in inches into the following buckets:\n",
    "\n",
    "0 - 0.02 (No rain)\n",
    "\n",
    "0.02 - 0.065\n",
    "\n",
    "0.065 - 0.15\n",
    "\n",
    "0.15 - 0.3\n",
    "\n",
    "0.3 - 0.6\n",
    "\n",
    "\\> 0.6"
   ]
  },
  {
   "cell_type": "code",
   "execution_count": 5,
   "metadata": {
    "collapsed": false
   },
   "outputs": [],
   "source": [
    "num_measurements = len(dd[\"KBOS\"])\n",
    "rain_measurements = np.zeros(num_measurements*len(dd))\n",
    "for ii, muni in enumerate(dd):\n",
    "    rain_measurements[ii*num_measurements:(ii+1)*num_measurements] = dd[muni].PrecipitationIn.values"
   ]
  },
  {
   "cell_type": "code",
   "execution_count": 6,
   "metadata": {
    "collapsed": false
   },
   "outputs": [
    {
     "data": {
      "text/plain": [
       "[0, 3, 0, 60987.0]"
      ]
     },
     "execution_count": 6,
     "metadata": {},
     "output_type": "execute_result"
    },
    {
     "data": {
      "image/png": "[encoded data removed]",
      "text/plain": [
       "<matplotlib.figure.Figure at 0x112032a20>"
      ]
     },
     "metadata": {},
     "output_type": "display_data"
    }
   ],
   "source": [
    "# hardcode bins to make each bin roughly equal in size\n",
    "bins = [0.0, 0.02, 0.065, .15, .3, .6, 60]\n",
    "n, bins, patches = plt.hist(rain_measurements, bins=bins)\n",
    "plt.axis([0, 3, 0, max(n)])"
   ]
  },
  {
   "cell_type": "code",
   "execution_count": 7,
   "metadata": {
    "collapsed": false
   },
   "outputs": [],
   "source": [
    "# get dictionary from muni -> df to just muni -> rain measurements and muni -> discrete levels\n",
    "rain_discrete = {}\n",
    "rain_measure = {}\n",
    "for muni in dd:\n",
    "    rain_measure[muni] = dd[muni].PrecipitationIn.values\n",
    "    rain_discrete[muni] = np.digitize(dd[muni].PrecipitationIn.values, bins)"
   ]
  },
  {
   "cell_type": "markdown",
   "metadata": {},
   "source": [
    "#### Ordering of stations (nodes)\n",
    "In order to compute a dependecy DAG between stations, we need for the k2 algorithm a (topological) ordering of the stations. To obtain this automatically (for a in-depth weather model dependencies should be picked carefully manually and changed over the time) we use a combination of a Minimum Spanning Tree (MST) and Breadth First Search (BFS) on it to obtain a valid ordering."
   ]
  },
  {
   "cell_type": "code",
   "execution_count": 8,
   "metadata": {
    "collapsed": false
   },
   "outputs": [],
   "source": [
    "# run brew install geos\n",
    "# then get tarball from http://matplotlib.org/basemap/users/installing.html\n",
    "# run python3 setup.py install\n",
    "\n",
    "# get cartopy from https://github.com/SciTools/Cartopy\n",
    "from mpl_toolkits.basemap import Basemap\n",
    "import matplotlib.pyplot as plt"
   ]
  },
  {
   "cell_type": "code",
   "execution_count": 9,
   "metadata": {
    "collapsed": false
   },
   "outputs": [],
   "source": [
    "# helper function to plot the region around the stations out\n",
    "def plot_MA_map(water_color=sns.xkcd_rgb[\"baby blue\"], \\\n",
    "    land_color=sns.xkcd_rgb[\"beige\"], \\\n",
    "    marker_color=sns.xkcd_rgb[\"chocolate brown\"], \\\n",
    "    arrow_color=sns.xkcd_rgb[\"dull red\"]):\n",
    "\n",
    "    map = Basemap(llcrnrlon=-74.5,llcrnrlat=40.75,urcrnrlon=-69.75,urcrnrlat=43, resolution = 'h')\n",
    "    map.drawstates(color='white', linewidth=2)\n",
    "    map.drawmapboundary(fill_color=water_color)\n",
    "    map.fillcontinents(color=land_color,lake_color=water_color)\n",
    "    map.drawrivers(color=water_color, zorder=-1)\n",
    "    \n",
    "    return map"
   ]
  },
  {
   "cell_type": "markdown",
   "metadata": {},
   "source": [
    "We estimate the ordering via a minimum spanning tree based on euclidean distance (lon/lat due to the small relative scale still this is feasible). The estimation is done by using scipy's new graph features. To speedup the computation we do not relie on the complete graph but build instead a preliminary graph using k-nearest neighbor search (here with 6 neighbors)."
   ]
  },
  {
   "cell_type": "code",
   "execution_count": 10,
   "metadata": {
    "collapsed": false
   },
   "outputs": [
    {
     "data": {
      "text/html": [
       "<div>\n",
       "<table border=\"1\" class=\"dataframe\">\n",
       "  <thead>\n",
       "    <tr style=\"text-align: right;\">\n",
       "      <th></th>\n",
       "      <th>name</th>\n",
       "      <th>code</th>\n",
       "      <th>lat</th>\n",
       "      <th>lon</th>\n",
       "    </tr>\n",
       "  </thead>\n",
       "  <tbody>\n",
       "    <tr>\n",
       "      <th>0</th>\n",
       "      <td>Bridgeport</td>\n",
       "      <td>KBDR</td>\n",
       "      <td>41.17</td>\n",
       "      <td>73.13</td>\n",
       "    </tr>\n",
       "    <tr>\n",
       "      <th>1</th>\n",
       "      <td>Providence</td>\n",
       "      <td>KPVD</td>\n",
       "      <td>41.73</td>\n",
       "      <td>71.43</td>\n",
       "    </tr>\n",
       "    <tr>\n",
       "      <th>2</th>\n",
       "      <td>New York</td>\n",
       "      <td>KNYC</td>\n",
       "      <td>40.77</td>\n",
       "      <td>73.98</td>\n",
       "    </tr>\n",
       "    <tr>\n",
       "      <th>3</th>\n",
       "      <td>Purchase</td>\n",
       "      <td>KHPN</td>\n",
       "      <td>41.04</td>\n",
       "      <td>73.71</td>\n",
       "    </tr>\n",
       "    <tr>\n",
       "      <th>4</th>\n",
       "      <td>Lawrence</td>\n",
       "      <td>KLWM</td>\n",
       "      <td>42.72</td>\n",
       "      <td>71.12</td>\n",
       "    </tr>\n",
       "    <tr>\n",
       "      <th>5</th>\n",
       "      <td>New Bedford</td>\n",
       "      <td>KEWB</td>\n",
       "      <td>41.68</td>\n",
       "      <td>70.97</td>\n",
       "    </tr>\n",
       "    <tr>\n",
       "      <th>6</th>\n",
       "      <td>New Haven</td>\n",
       "      <td>KHVN</td>\n",
       "      <td>41.22</td>\n",
       "      <td>72.67</td>\n",
       "    </tr>\n",
       "    <tr>\n",
       "      <th>7</th>\n",
       "      <td>Bedford</td>\n",
       "      <td>KBED</td>\n",
       "      <td>42.47</td>\n",
       "      <td>71.28</td>\n",
       "    </tr>\n",
       "    <tr>\n",
       "      <th>8</th>\n",
       "      <td>Norwood</td>\n",
       "      <td>KOWD</td>\n",
       "      <td>42.18</td>\n",
       "      <td>71.18</td>\n",
       "    </tr>\n",
       "    <tr>\n",
       "      <th>9</th>\n",
       "      <td>Pittsfield</td>\n",
       "      <td>KPSF</td>\n",
       "      <td>42.26</td>\n",
       "      <td>73.18</td>\n",
       "    </tr>\n",
       "    <tr>\n",
       "      <th>10</th>\n",
       "      <td>Newport</td>\n",
       "      <td>KUUU</td>\n",
       "      <td>41.49</td>\n",
       "      <td>71.31</td>\n",
       "    </tr>\n",
       "    <tr>\n",
       "      <th>11</th>\n",
       "      <td>Westfield</td>\n",
       "      <td>KBAF</td>\n",
       "      <td>42.17</td>\n",
       "      <td>72.72</td>\n",
       "    </tr>\n",
       "    <tr>\n",
       "      <th>12</th>\n",
       "      <td>Cape Cod</td>\n",
       "      <td>KFMH</td>\n",
       "      <td>41.78</td>\n",
       "      <td>70.50</td>\n",
       "    </tr>\n",
       "    <tr>\n",
       "      <th>13</th>\n",
       "      <td>Chicopee</td>\n",
       "      <td>KCEF</td>\n",
       "      <td>42.20</td>\n",
       "      <td>72.53</td>\n",
       "    </tr>\n",
       "    <tr>\n",
       "      <th>14</th>\n",
       "      <td>Boston</td>\n",
       "      <td>KBOS</td>\n",
       "      <td>42.37</td>\n",
       "      <td>71.03</td>\n",
       "    </tr>\n",
       "    <tr>\n",
       "      <th>15</th>\n",
       "      <td>Albany</td>\n",
       "      <td>KALB</td>\n",
       "      <td>42.75</td>\n",
       "      <td>73.80</td>\n",
       "    </tr>\n",
       "    <tr>\n",
       "      <th>16</th>\n",
       "      <td>Worcester</td>\n",
       "      <td>KORH</td>\n",
       "      <td>42.27</td>\n",
       "      <td>71.87</td>\n",
       "    </tr>\n",
       "    <tr>\n",
       "      <th>17</th>\n",
       "      <td>Carver</td>\n",
       "      <td>KPYM</td>\n",
       "      <td>41.91</td>\n",
       "      <td>70.73</td>\n",
       "    </tr>\n",
       "  </tbody>\n",
       "</table>\n",
       "</div>"
      ],
      "text/plain": [
       "           name  code    lat    lon\n",
       "0    Bridgeport  KBDR  41.17  73.13\n",
       "1    Providence  KPVD  41.73  71.43\n",
       "2      New York  KNYC  40.77  73.98\n",
       "3      Purchase  KHPN  41.04  73.71\n",
       "4      Lawrence  KLWM  42.72  71.12\n",
       "5   New Bedford  KEWB  41.68  70.97\n",
       "6     New Haven  KHVN  41.22  72.67\n",
       "7       Bedford  KBED  42.47  71.28\n",
       "8       Norwood  KOWD  42.18  71.18\n",
       "9    Pittsfield  KPSF  42.26  73.18\n",
       "10      Newport  KUUU  41.49  71.31\n",
       "11    Westfield  KBAF  42.17  72.72\n",
       "12     Cape Cod  KFMH  41.78  70.50\n",
       "13     Chicopee  KCEF  42.20  72.53\n",
       "14       Boston  KBOS  42.37  71.03\n",
       "15       Albany  KALB  42.75  73.80\n",
       "16    Worcester  KORH  42.27  71.87\n",
       "17       Carver  KPYM  41.91  70.73"
      ]
     },
     "execution_count": 10,
     "metadata": {},
     "output_type": "execute_result"
    }
   ],
   "source": [
    "# load lon/lat data and join with station names\n",
    "dfgeo = pd.read_csv('data/geoinfo.tsv', sep='\\t')\n",
    "dfgeo.set_index('name', inplace=True)\n",
    "dfmunis = pd.DataFrame(list(ds.munis.items()), columns=['code', 'name'])\n",
    "dfmunis.set_index('name', inplace=True)\n",
    "\n",
    "dfjoined = dfmunis.join(dfgeo)\n",
    "dfjoined.reset_index(inplace=True)\n",
    "dfjoined.head(20)"
   ]
  },
  {
   "cell_type": "code",
   "execution_count": 11,
   "metadata": {
    "collapsed": false
   },
   "outputs": [],
   "source": [
    "# produce ordering using a minimum spanning tree based on distance as edge weights\n",
    "from sklearn.neighbors import kneighbors_graph\n",
    "from scipy.sparse.csgraph import minimum_spanning_tree\n",
    "\n",
    "X = dfjoined[['lon', 'lat']].values\n",
    "# use 6 nearest neighbors to generate preliminary graph\n",
    "G = kneighbors_graph(X, n_neighbors=6, mode='distance')\n",
    "# compute the minimum spanning tree of this graph\n",
    "T = minimum_spanning_tree(G, overwrite=True)\n",
    "# retrieve coordinates\n",
    "T = T.tocoo()\n",
    "\n",
    "dist = T.data\n",
    "p1 = T.row\n",
    "p2 = T.col\n",
    "A = X[p1].T\n",
    "B = X[p2].T\n",
    "lon_coords = np.vstack([A[0], B[0]])\n",
    "lat_coords = np.vstack([A[1], B[1]])"
   ]
  },
  {
   "cell_type": "markdown",
   "metadata": {},
   "source": [
    "The following code produces a nice image of the minimum spanning tree obtained via Kruskal's algorithm:"
   ]
  },
  {
   "cell_type": "code",
   "execution_count": 12,
   "metadata": {
    "collapsed": true
   },
   "outputs": [],
   "source": [
    "def plot_map_mst(map, lon_coords, lat_coords, marker_color=sns.xkcd_rgb[\"chocolate brown\"], \\\n",
    "    arrow_color=sns.xkcd_rgb[\"dull red\"]):\n",
    "    \n",
    "    def plot_mst(map, lon_coords, lat_coords):\n",
    "        assert(lon_coords.shape == lat_coords.shape)\n",
    "        coeff_cut = 0.06\n",
    "        for i in range(lon_coords.shape[1]):\n",
    "            lons = -np.array([lon_coords[0, i], lon_coords[1, i]])\n",
    "            lats = np.array([lat_coords[0, i], lat_coords[1, i]])\n",
    "\n",
    "            x, y = map(lons, lats)\n",
    "\n",
    "            dx = x[1] - x[0]\n",
    "            dy = y[1] - y[0]\n",
    "            plt.arrow(x[0] + coeff_cut * 0.5 * dx, y[0] + coeff_cut * 0.5 * dy, \\\n",
    "                      (1.0 - coeff_cut)* dx, (1.0 - coeff_cut) * dy,\\\n",
    "                      shape='full', lw=1.35, length_includes_head=True, head_width=.0,\\\n",
    "                      fc=arrow_color, ec=arrow_color, zorder=25)\n",
    "\n",
    "    lons = -dfjoined.lon.values\n",
    "    lats = dfjoined.lat.values\n",
    "\n",
    "    x, y = map(lons, lats)\n",
    "\n",
    "    map.scatter(x, y, marker='o',color=marker_color, zorder=10)\n",
    "    labels = dfjoined.name\n",
    "    offset = 0.02\n",
    "    for label, xpt, ypt in zip(labels, x, y):\n",
    "        #manual positioning fix\n",
    "        if label == 'Westfield':\n",
    "            plt.text(xpt+2*offset, ypt-3*offset, label, zorder=30)\n",
    "        else:  \n",
    "            plt.text(xpt+offset, ypt+offset, label,zorder=30)\n",
    "    plot_mst(map, lon_coords, lat_coords)"
   ]
  },
  {
   "cell_type": "code",
   "execution_count": 13,
   "metadata": {
    "collapsed": false
   },
   "outputs": [
    {
     "data": {
      "text/plain": [
       "<matplotlib.text.Text at 0x114bf57b8>"
      ]
     },
     "execution_count": 13,
     "metadata": {},
     "output_type": "execute_result"
    },
    {
     "data": {
      "image/png": "[encoded data removed]",
      "text/plain": [
       "<matplotlib.figure.Figure at 0x116edaba8>"
      ]
     },
     "metadata": {},
     "output_type": "display_data"
    }
   ],
   "source": [
    "plt.figure(figsize=(12, 7))\n",
    "euc_map = plot_MA_map()\n",
    "plot_map_mst(euc_map, lon_coords, lat_coords)\n",
    "plt.title('minimum euclidean spanning tree')"
   ]
  },
  {
   "cell_type": "markdown",
   "metadata": {},
   "source": [
    "We now infer a topological ordering via BFS. It is up to the user to pick a meaningful start node (probably a node with many children)."
   ]
  },
  {
   "cell_type": "code",
   "execution_count": 14,
   "metadata": {
    "collapsed": true
   },
   "outputs": [],
   "source": [
    "from enum import Enum\n",
    "\n",
    "adj_matrix = T.toarray()\n",
    "\n",
    "class Color(Enum):\n",
    "    GRAY = 1 # next to visit\n",
    "    WHITE = 0 # non-visited\n",
    "    BLACK = 2 # visited\n",
    "# determine an ordering from a MST via some tree search (choose BFS here)\n",
    "num_nodes = adj_matrix.shape[0]\n",
    "colors = np.array([Color.WHITE] * num_nodes)\n",
    "# some start node (here the first one --> let the user choose this one)\n",
    "start_node = 0\n",
    "order = []\n",
    "colors[start_node] = Color.GRAY\n",
    "order.append(start_node) # whenever something is GRAYED add to order...\n",
    "queue = []\n",
    "queue.append(start_node)\n",
    "while len(queue) > 0:\n",
    "    #dequeue\n",
    "    u = queue[0]\n",
    "    queue = queue[1:]\n",
    "    \n",
    "    for v in range(num_nodes):\n",
    "        #adjacent ?\n",
    "        if adj_matrix[u, v] > 0 or adj_matrix[v, u] > 0:\n",
    "            if colors[v] == Color.WHITE: # not visited yet?\n",
    "                colors[v] = Color.GRAY\n",
    "                order.append(v)\n",
    "                queue.append(v)\n",
    "    colors[u] = Color.BLACK"
   ]
  },
  {
   "cell_type": "code",
   "execution_count": 15,
   "metadata": {
    "collapsed": false
   },
   "outputs": [
    {
     "data": {
      "text/plain": [
       "[0, 3, 6, 2, 11, 9, 13, 15, 16, 7, 4, 14, 8, 1, 10, 5, 17, 12]"
      ]
     },
     "execution_count": 15,
     "metadata": {},
     "output_type": "execute_result"
    }
   ],
   "source": [
    "# the obtained order\n",
    "order"
   ]
  },
  {
   "cell_type": "code",
   "execution_count": 16,
   "metadata": {
    "collapsed": true
   },
   "outputs": [],
   "source": [
    "# helper function to visualize the order onto a map\n",
    "def plot_map_order(map, order, marker_color=sns.xkcd_rgb[\"chocolate brown\"]):\n",
    "    lons = -dfjoined.lon.values\n",
    "    lats = dfjoined.lat.values\n",
    "\n",
    "    x, y = map(lons, lats)\n",
    "\n",
    "    map.scatter(x, y, marker='o',color=marker_color, zorder=10)\n",
    "    labels = dfjoined.name\n",
    "    offset = 0.02\n",
    "    pos = 1\n",
    "    for i in order:\n",
    "        label, xpt, ypt = labels[i], x[i], y[i]\n",
    "        #manual positioning fix\n",
    "        if label == 'Westfield':\n",
    "            label = ''\n",
    "            plt.text(xpt+2*offset, ypt-3*offset, label + ' ({})'.format(pos), zorder=30, fontsize=16)\n",
    "        else:  \n",
    "            label = ''\n",
    "            plt.text(xpt+offset, ypt+offset, label + ' ({})'.format(pos),zorder=30, fontsize=16)\n",
    "        pos += 1"
   ]
  },
  {
   "cell_type": "code",
   "execution_count": 17,
   "metadata": {
    "collapsed": false
   },
   "outputs": [
    {
     "data": {
      "text/plain": [
       "<matplotlib.text.Text at 0x11781cb38>"
      ]
     },
     "execution_count": 17,
     "metadata": {},
     "output_type": "execute_result"
    },
    {
     "data": {
      "image/png": "[encoded data removed]",
      "text/plain": [
       "<matplotlib.figure.Figure at 0x1176c6d68>"
      ]
     },
     "metadata": {},
     "output_type": "display_data"
    }
   ],
   "source": [
    "plt.figure(figsize=(12, 7))\n",
    "top_map = plot_MA_map()\n",
    "plot_map_order(top_map, order)\n",
    "plt.title('topological order obtained')"
   ]
  },
  {
   "cell_type": "code",
   "execution_count": 18,
   "metadata": {
    "collapsed": false
   },
   "outputs": [],
   "source": [
    "# convert ordering to station codes\n",
    "node_ordering = []\n",
    "key_vals = list(ds.munis.keys())\n",
    "for idx in order:\n",
    "    node_ordering.append( key_vals[idx])"
   ]
  },
  {
   "cell_type": "code",
   "execution_count": 19,
   "metadata": {
    "collapsed": false
   },
   "outputs": [
    {
     "data": {
      "text/plain": [
       "['KBDR',\n",
       " 'KHPN',\n",
       " 'KHVN',\n",
       " 'KNYC',\n",
       " 'KBAF',\n",
       " 'KPSF',\n",
       " 'KCEF',\n",
       " 'KALB',\n",
       " 'KORH',\n",
       " 'KBED',\n",
       " 'KLWM',\n",
       " 'KBOS',\n",
       " 'KOWD',\n",
       " 'KPVD',\n",
       " 'KUUU',\n",
       " 'KEWB',\n",
       " 'KPYM',\n",
       " 'KFMH']"
      ]
     },
     "execution_count": 19,
     "metadata": {},
     "output_type": "execute_result"
    }
   ],
   "source": [
    "# current ordering\n",
    "node_ordering"
   ]
  },
  {
   "cell_type": "code",
   "execution_count": 20,
   "metadata": {
    "collapsed": false
   },
   "outputs": [
    {
     "data": {
      "text/plain": [
       "{'KALB': ['KCEF'],\n",
       " 'KBAF': ['KNYC'],\n",
       " 'KBED': ['KORH'],\n",
       " 'KBOS': ['KLWM'],\n",
       " 'KCEF': ['KPSF'],\n",
       " 'KEWB': ['KUUU'],\n",
       " 'KFMH': ['KPYM'],\n",
       " 'KHPN': ['KBDR'],\n",
       " 'KHVN': ['KHPN'],\n",
       " 'KLWM': ['KBED'],\n",
       " 'KNYC': ['KHVN'],\n",
       " 'KORH': ['KALB'],\n",
       " 'KOWD': ['KBOS'],\n",
       " 'KPSF': ['KBAF'],\n",
       " 'KPVD': ['KOWD'],\n",
       " 'KPYM': ['KEWB'],\n",
       " 'KUUU': ['KPVD']}"
      ]
     },
     "execution_count": 20,
     "metadata": {},
     "output_type": "execute_result"
    }
   ],
   "source": [
    "ord_relation ={}\n",
    "for i in range(len(node_ordering) - 1):\n",
    "    ord_relation[node_ordering[i+1]] = [node_ordering[i]]\n",
    "ord_relation"
   ]
  },
  {
   "cell_type": "markdown",
   "metadata": {},
   "source": [
    "### Bayesian Network With K2"
   ]
  },
  {
   "cell_type": "code",
   "execution_count": 31,
   "metadata": {
    "collapsed": true
   },
   "outputs": [],
   "source": [
    "# helper function to increment counter in dict\n",
    "def inc(dic, key):\n",
    "    if key in dic:\n",
    "        dic[key] += 1\n",
    "    else:\n",
    "        dic[key] = 1\n",
    "        \n",
    "# helper function to get conditional probability\n",
    "def conditional_prob(muni, muni_bucket, parents):\n",
    "    parents_count = 1\n",
    "    parents_muni_count = 1\n",
    "    for i in range(num_measurements):\n",
    "        parents_row = True\n",
    "        for parent, bucket in parents.items():\n",
    "            if rain_discrete[parent][i] != bucket:\n",
    "                parents_row = False\n",
    "                break\n",
    "        if parents_row:\n",
    "            parents_count += 1\n",
    "            if rain_discrete[muni][i] == muni_bucket:\n",
    "                parents_muni_count += 1\n",
    "    return parents_muni_count/parents_count\n",
    "        \n",
    "# helper function for k2, calculate probability of some municipality and list of parents\n",
    "def log_probability(muni, parents):\n",
    "    p = 0\n",
    "    discrete_counts = {}\n",
    "    for i in range(num_measurements):\n",
    "        key = []\n",
    "        for parent in parents:\n",
    "            key.append(rain_discrete[parent][i])\n",
    "        key = tuple(key)\n",
    "        key2 = rain_discrete[muni][i]\n",
    "        if key in discrete_counts:\n",
    "            inc(discrete_counts[key], key2)\n",
    "        else:\n",
    "            discrete_counts[key] = {key2: 1}\n",
    "            \n",
    "    for permutation in discrete_counts:\n",
    "        total_instances = 0\n",
    "        for k in range(1, len(bins)):\n",
    "            if k in discrete_counts[permutation]:\n",
    "                instances = discrete_counts[permutation][k]\n",
    "                total_instances += instances\n",
    "                p += np.sum(list(map(lambda x: np.log(x), range(1, instances))))\n",
    "        p += np.sum(list(map(lambda x: np.log(x), range(1, len(bins) - 1))))\n",
    "        p -= np.sum(list(map(lambda x: np.log(x), range(1, total_instances + len(bins) - 1))))\n",
    "    return p\n",
    "\n",
    "# helper function to calculate total log probability\n",
    "def BayesNetLog(adjacency_dict):\n",
    "    p = 0\n",
    "    for muni, parents in adjacency_dict.items():\n",
    "        p += log_probability(muni, parents)\n",
    "    return p\n",
    "\n",
    "# k2 algorithm\n",
    "def k2(node_ordering, max_parents):\n",
    "    adjacency_dict = {}\n",
    "    # keep track of munis we've come across to avoid cycles\n",
    "    visited_munis = set()\n",
    "    for muni in node_ordering:\n",
    "        parents = []\n",
    "        p_old = log_probability(muni, parents)\n",
    "        keepGoing = True\n",
    "        while keepGoing and len(parents) < max_parents:\n",
    "            # greedily choose the next neighbor to add calculating log_probability\n",
    "            # from adding a neighbor that hasn't been visited yet\n",
    "            p_best = -np.inf\n",
    "            best_neighbor = None\n",
    "            neighbors = visited_munis - set(parents)\n",
    "            if len(neighbors) > 0:\n",
    "                neighbors = list(map(lambda x: (x, log_probability(muni, parents + [x])), neighbors))\n",
    "                best_neighbor, p_best = max(neighbors, key=lambda x: x[1])\n",
    "            if p_best > p_old:\n",
    "                p_old = p_best\n",
    "                parents = parents + [best_neighbor]\n",
    "            else:\n",
    "                keepGoing = False\n",
    "        adjacency_dict[muni] = parents\n",
    "        visited_munis.add(muni)\n",
    "    return adjacency_dict"
   ]
  },
  {
   "cell_type": "code",
   "execution_count": 22,
   "metadata": {
    "collapsed": false
   },
   "outputs": [],
   "source": [
    "k2_max3 = k2(node_ordering, 3)"
   ]
  },
  {
   "cell_type": "code",
   "execution_count": 23,
   "metadata": {
    "collapsed": false
   },
   "outputs": [
    {
     "data": {
      "text/plain": [
       "{'KALB': ['KPSF', 'KCEF'],\n",
       " 'KBAF': ['KNYC'],\n",
       " 'KBDR': [],\n",
       " 'KBED': ['KORH', 'KBAF'],\n",
       " 'KBOS': ['KORH', 'KBED'],\n",
       " 'KCEF': ['KBAF', 'KBDR'],\n",
       " 'KEWB': ['KUUU', 'KOWD'],\n",
       " 'KFMH': ['KEWB'],\n",
       " 'KHPN': ['KBDR'],\n",
       " 'KHVN': ['KBDR'],\n",
       " 'KLWM': ['KBED', 'KORH'],\n",
       " 'KNYC': ['KBDR', 'KHPN'],\n",
       " 'KORH': ['KCEF', 'KBAF'],\n",
       " 'KOWD': ['KBED', 'KBOS'],\n",
       " 'KPSF': ['KBAF'],\n",
       " 'KPVD': ['KBOS', 'KBDR'],\n",
       " 'KPYM': ['KEWB', 'KUUU'],\n",
       " 'KUUU': ['KPVD']}"
      ]
     },
     "execution_count": 23,
     "metadata": {},
     "output_type": "execute_result"
    }
   ],
   "source": [
    "k2_max3"
   ]
  },
  {
   "cell_type": "markdown",
   "metadata": {},
   "source": [
    "### Simulated Annealing on K2 Result"
   ]
  },
  {
   "cell_type": "code",
   "execution_count": 24,
   "metadata": {
    "collapsed": false
   },
   "outputs": [],
   "source": [
    "node_idx = dict(zip(node_ordering, range(len(node_ordering))))\n",
    "idx_node = dict(zip(range(len(node_ordering)), node_ordering))\n",
    "switchable_nodes = node_ordering[1:]\n",
    "# create algorithm to randomly reassign dependencies\n",
    "def reassign_deps(adjacency_dict, num_parents):\n",
    "    rand_muni = np.random.choice(switchable_nodes)\n",
    "    rand_parents = list(map(lambda x: idx_node[x], np.random.choice(range(node_idx[rand_muni]), \\\n",
    "                            size=min(num_parents,node_idx[rand_muni]), replace=False)))\n",
    "    adjacency_dict[rand_muni] = rand_parents\n",
    "    return adjacency_dict"
   ]
  },
  {
   "cell_type": "code",
   "execution_count": 25,
   "metadata": {
    "collapsed": true
   },
   "outputs": [],
   "source": [
    "temperature = 10.0\n",
    "#start with resulting adjacency from k2\n",
    "adj_mat = k2_max3\n",
    "best_found = BayesNetLog(adj_mat)\n",
    "best_mat = dict(adj_mat)\n",
    "err_trace = [best_found]\n",
    "prev_E = best_found\n",
    "m = 100\n",
    "ftol = 0.01\n",
    "\n",
    "for i in range(1000):\n",
    "    # swaps for new corr matrix\n",
    "    num_swaps = np.max([1,np.random.choice(np.floor(np.sqrt(temperature)).astype(int))])\n",
    "    new_adj_mat = reassign_deps(adj_mat, num_swaps)\n",
    "    new_E = BayesNetLog(new_adj_mat)\n",
    "    deltaE  =  new_E - prev_E\n",
    "    # update check\n",
    "    if deltaE > 0 or np.random.rand() < np.exp( deltaE/temperature):\n",
    "        if best_found < new_E:\n",
    "            best_found = new_E\n",
    "            best_mat = dict(adj_mat)\n",
    "        adj_mat = new_adj_mat\n",
    "        prev_E = new_E\n",
    "        err_trace.append(new_E)\n",
    "    \n",
    "    if len(err_trace) % 50 == 0:\n",
    "        temperature *= 0.9\n",
    "        if temperature < 0.1:\n",
    "            temperature = 1.0\n",
    "    \n",
    "    if len(err_trace) > m and np.std(err_trace[-m:])/np.mean(err_trace[-m:]) < ftol:\n",
    "        break"
   ]
  },
  {
   "cell_type": "code",
   "execution_count": 26,
   "metadata": {
    "collapsed": false
   },
   "outputs": [
    {
     "data": {
      "text/plain": [
       "[<matplotlib.lines.Line2D at 0x1179e4cf8>]"
      ]
     },
     "execution_count": 26,
     "metadata": {},
     "output_type": "execute_result"
    },
    {
     "data": {
      "image/png": "[encoded data removed]",
      "text/plain": [
       "<matplotlib.figure.Figure at 0x1178b08d0>"
      ]
     },
     "metadata": {},
     "output_type": "display_data"
    }
   ],
   "source": [
    "plt.xlabel(\"Iteration\")\n",
    "plt.ylabel(\"Log Probability\")\n",
    "plt.title(\"Simulated Annealing On K2 DAG\")\n",
    "plt.plot(err_trace)"
   ]
  },
  {
   "cell_type": "code",
   "execution_count": 27,
   "metadata": {
    "collapsed": false
   },
   "outputs": [
    {
     "data": {
      "text/plain": [
       "{'KALB': ['KPSF', 'KCEF'],\n",
       " 'KBAF': ['KNYC'],\n",
       " 'KBDR': [],\n",
       " 'KBED': ['KORH', 'KBAF'],\n",
       " 'KBOS': ['KORH', 'KBED'],\n",
       " 'KCEF': ['KBAF', 'KBDR'],\n",
       " 'KEWB': ['KUUU', 'KOWD'],\n",
       " 'KFMH': ['KEWB'],\n",
       " 'KHPN': ['KBDR'],\n",
       " 'KHVN': ['KBDR'],\n",
       " 'KLWM': ['KBED', 'KORH'],\n",
       " 'KNYC': ['KBDR', 'KHPN'],\n",
       " 'KORH': ['KCEF', 'KBAF'],\n",
       " 'KOWD': ['KBED', 'KBOS'],\n",
       " 'KPSF': ['KBAF'],\n",
       " 'KPVD': ['KBOS', 'KBDR'],\n",
       " 'KPYM': ['KEWB', 'KUUU'],\n",
       " 'KUUU': ['KPVD']}"
      ]
     },
     "execution_count": 27,
     "metadata": {},
     "output_type": "execute_result"
    }
   ],
   "source": [
    "best_mat"
   ]
  },
  {
   "cell_type": "markdown",
   "metadata": {},
   "source": [
    "### Plotting a estimated dependecy relation via K2+SA algorithm\n",
    "blablba...."
   ]
  },
  {
   "cell_type": "code",
   "execution_count": null,
   "metadata": {
    "collapsed": false
   },
   "outputs": [],
   "source": [
    "# relation is a dict with child : [parent1, parent2]\n",
    "# arrows are from parents to child\n",
    "def plot_map_graph(map, relation, \\\n",
    "    marker_color=sns.xkcd_rgb[\"chocolate brown\"], \\\n",
    "    arrow_color=sns.xkcd_rgb[\"dull red\"]):\n",
    "    \n",
    "    def plot_graph(map, relation):\n",
    "        for child_code, parents in relation.items():\n",
    "            #print(key, item)\n",
    "            child = dfjoined[dfjoined['code'] == child_code]\n",
    "            for parent_code in parents:\n",
    "                parent = dfjoined[dfjoined['code'] == parent_code]\n",
    "            lons = -np.array(list(parent['lon']) + list(child['lon']))\n",
    "            lats = np.array(list(parent['lat']) + list(child['lat']))\n",
    "\n",
    "            x, y = map(lons, lats)\n",
    "\n",
    "            dx = x[1] - x[0]\n",
    "            dy = y[1] - y[0]\n",
    "            plt.arrow(x[0] + coeff_cut * 0.5 * dx, y[0] + coeff_cut * 0.5 * dy, \\\n",
    "                      (1.0 - coeff_cut)* dx, (1.0 - coeff_cut) * dy,\\\n",
    "                      shape='full', lw=1.35, length_includes_head=True, head_width=.04,\\\n",
    "                      fc=arrow_color, ec=arrow_color, zorder=25)\n",
    "\n",
    "    lons = -dfjoined.lon.values\n",
    "    lats = dfjoined.lat.values\n",
    "\n",
    "    x, y = map(lons, lats)\n",
    "\n",
    "    map.scatter(x, y, marker='o',color=marker_color, zorder=10)\n",
    "    labels = dfjoined.name\n",
    "    offset = 0.02\n",
    "    for label, xpt, ypt in zip(labels, x, y):\n",
    "        #manual positioning fix\n",
    "        if label == 'Westfield':\n",
    "            plt.text(xpt+2*offset, ypt-3*offset, label, zorder=30)\n",
    "        else:  \n",
    "            plt.text(xpt+offset, ypt+offset, label,zorder=30)\n",
    "\n",
    "    coeff_cut = 0.06\n",
    "    \n",
    "    plot_graph(map, relation)\n"
   ]
  },
  {
   "cell_type": "markdown",
   "metadata": {},
   "source": [
    "Let's first plot the node ordering we are actually using for the K2 algorithm"
   ]
  },
  {
   "cell_type": "code",
   "execution_count": null,
   "metadata": {
    "collapsed": false
   },
   "outputs": [],
   "source": [
    "plt.figure(figsize=(12, 7))\n",
    "node_map = plot_MA_map()\n",
    "plot_map_graph(node_map, ord_relation)"
   ]
  },
  {
   "cell_type": "code",
   "execution_count": null,
   "metadata": {
    "collapsed": false
   },
   "outputs": [],
   "source": [
    "# this plots out the dependency\n",
    "plt.figure(figsize=(12, 7))\n",
    "dep_map = plot_MA_map()\n",
    "plot_map_graph(dep_map, best_mat)"
   ]
  }
 ],
 "metadata": {
  "kernelspec": {
   "display_name": "Python 3",
   "language": "python",
   "name": "python3"
  },
  "language_info": {
   "codemirror_mode": {
    "name": "ipython",
    "version": 3
   },
   "file_extension": ".py",
   "mimetype": "text/x-python",
   "name": "python",
   "nbconvert_exporter": "python",
   "pygments_lexer": "ipython3",
   "version": "3.5.1"
  }
 },
 "nbformat": 4,
 "nbformat_minor": 0
}
