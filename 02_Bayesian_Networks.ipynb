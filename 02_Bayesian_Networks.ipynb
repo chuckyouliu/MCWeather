{
 "cells": [
  {
   "cell_type": "code",
   "execution_count": 2,
   "metadata": {
    "collapsed": true
   },
   "outputs": [],
   "source": [
    "%matplotlib inline\n",
    "import numpy as np\n",
    "import scipy as sci\n",
    "import matplotlib.pyplot as plt\n",
    "import pandas as pd\n",
    "import seaborn as sns\n",
    "sns.set_style('whitegrid')"
   ]
  },
  {
   "cell_type": "code",
   "execution_count": 3,
   "metadata": {
    "collapsed": true
   },
   "outputs": [],
   "source": [
    "df = pd.read_csv('data/KBOS-2012.csv')"
   ]
  },
  {
   "cell_type": "code",
   "execution_count": 5,
   "metadata": {
    "collapsed": false
   },
   "outputs": [
    {
     "data": {
      "text/plain": [
       "Index(['EST', 'Max TemperatureF', 'Mean TemperatureF', 'Min TemperatureF',\n",
       "       'Max Dew PointF', 'MeanDew PointF', 'Min DewpointF', 'Max Humidity',\n",
       "       ' Mean Humidity', ' Min Humidity', ' Max Sea Level PressureIn',\n",
       "       ' Mean Sea Level PressureIn', ' Min Sea Level PressureIn',\n",
       "       ' Max VisibilityMiles', ' Mean VisibilityMiles', ' Min VisibilityMiles',\n",
       "       ' Max Wind SpeedMPH', ' Mean Wind SpeedMPH', ' Max Gust SpeedMPH',\n",
       "       'PrecipitationIn', ' CloudCover', ' Events', ' WindDirDegrees'],\n",
       "      dtype='object')"
      ]
     },
     "execution_count": 5,
     "metadata": {},
     "output_type": "execute_result"
    }
   ],
   "source": [
    "df.columns"
   ]
  },
  {
   "cell_type": "markdown",
   "metadata": {},
   "source": [
    "### Preprocessing the data\n",
    "We quantize the measured precipitation in inch into four categories: 1=\"dry or very light rain\", 2=\"light rain\", 3=\"moderate rain\", 4=\"heavy rain\". Sometimes, the precipitation could not be recorded accurately and the data show \"T\" for trace. We set these to 0."
   ]
  },
  {
   "cell_type": "code",
   "execution_count": 19,
   "metadata": {
    "collapsed": false
   },
   "outputs": [],
   "source": [
    "precipitation = df['PrecipitationIn'].values\n",
    "precipitation[precipitation == 'T'] = 0.\n",
    "precipitation = precipitation.astype(float)"
   ]
  },
  {
   "cell_type": "code",
   "execution_count": 29,
   "metadata": {
    "collapsed": false
   },
   "outputs": [],
   "source": [
    "# we quantize using the following regions (acc. to wiki):\n",
    "# 1: [0.0, 0.098)\n",
    "# 2: [0.098, 0.3)\n",
    "# 3: [0.3, 2.)\n",
    "# 4: [2., +inf)\n",
    "\n",
    "q_precipitation = precipitation.copy()\n",
    "q_precipitation[precipitation < 0.098] = 1\n",
    "q_precipitation[(precipitation >= 0.098) * (precipitation < 0.3)] = 2\n",
    "q_precipitation[(precipitation >= 0.3) * (precipitation < 2.)] = 3\n",
    "q_precipitation[precipitation >= 2.] = 4"
   ]
  },
  {
   "cell_type": "code",
   "execution_count": null,
   "metadata": {
    "collapsed": true
   },
   "outputs": [],
   "source": []
  }
 ],
 "metadata": {
  "kernelspec": {
   "display_name": "Python 3",
   "language": "python",
   "name": "python3"
  },
  "language_info": {
   "codemirror_mode": {
    "name": "ipython",
    "version": 3
   },
   "file_extension": ".py",
   "mimetype": "text/x-python",
   "name": "python",
   "nbconvert_exporter": "python",
   "pygments_lexer": "ipython3",
   "version": "3.5.1"
  }
 },
 "nbformat": 4,
 "nbformat_minor": 0
}
