{
 "cells": [
  {
   "cell_type": "code",
   "execution_count": 3,
   "metadata": {
    "collapsed": false
   },
   "outputs": [],
   "source": [
    "%matplotlib inline\n",
    "import datascrape as ds\n",
    "from datetime import date\n",
    "import numpy as np\n",
    "import scipy as sci\n",
    "import matplotlib.pyplot as plt\n",
    "import pandas as pd\n",
    "import seaborn as sns\n",
    "from itertools import product\n",
    "sns.set_style('whitegrid')"
   ]
  },
  {
   "cell_type": "code",
   "execution_count": 4,
   "metadata": {
    "collapsed": true
   },
   "outputs": [],
   "source": [
    "df = pd.read_csv('data/KBOS-2012.csv')"
   ]
  },
  {
   "cell_type": "code",
   "execution_count": 5,
   "metadata": {
    "collapsed": false
   },
   "outputs": [
    {
     "data": {
      "text/plain": [
       "Index(['EST', 'Max TemperatureF', 'Mean TemperatureF', 'Min TemperatureF',\n",
       "       'Max Dew PointF', 'MeanDew PointF', 'Min DewpointF', 'Max Humidity',\n",
       "       ' Mean Humidity', ' Min Humidity', ' Max Sea Level PressureIn',\n",
       "       ' Mean Sea Level PressureIn', ' Min Sea Level PressureIn',\n",
       "       ' Max VisibilityMiles', ' Mean VisibilityMiles', ' Min VisibilityMiles',\n",
       "       ' Max Wind SpeedMPH', ' Mean Wind SpeedMPH', ' Max Gust SpeedMPH',\n",
       "       'PrecipitationIn', ' CloudCover', ' Events', ' WindDirDegrees'],\n",
       "      dtype='object')"
      ]
     },
     "execution_count": 5,
     "metadata": {},
     "output_type": "execute_result"
    }
   ],
   "source": [
    "df.columns"
   ]
  },
  {
   "cell_type": "code",
   "execution_count": 6,
   "metadata": {
    "collapsed": true
   },
   "outputs": [],
   "source": [
    "# All data\n",
    "dd = ds.dictdf(ds.munis, date(1960, 1, 1), date(2015, 12, 31))"
   ]
  },
  {
   "cell_type": "markdown",
   "metadata": {},
   "source": [
    "### Preprocessing the data\n",
    "We quantize the measured precipitation in inches into the following buckets:\n",
    "\n",
    "0 - 0.02 (No rain)\n",
    "\n",
    "0.02 - 0.065\n",
    "\n",
    "0.065 - 0.15\n",
    "\n",
    "0.15 - 0.3\n",
    "\n",
    "0.3 - 0.6\n",
    "\n",
    "\\> 0.6"
   ]
  },
  {
   "cell_type": "code",
   "execution_count": 7,
   "metadata": {
    "collapsed": false
   },
   "outputs": [],
   "source": [
    "num_measurements = len(dd[\"KBOS\"])\n",
    "rain_measurements = np.zeros(num_measurements*len(dd))\n",
    "for ii, muni in enumerate(dd):\n",
    "    rain_measurements[ii*num_measurements:(ii+1)*num_measurements] = dd[muni].PrecipitationIn.values"
   ]
  },
  {
   "cell_type": "code",
   "execution_count": 8,
   "metadata": {
    "collapsed": false
   },
   "outputs": [
    {
     "data": {
      "text/plain": [
       "[0, 3, 0, 67330.0]"
      ]
     },
     "execution_count": 8,
     "metadata": {},
     "output_type": "execute_result"
    },
    {
     "data": {
      "image/png": "[encoded data removed]",
      "text/plain": [
       "<matplotlib.figure.Figure at 0x10a8b2dd8>"
      ]
     },
     "metadata": {},
     "output_type": "display_data"
    }
   ],
   "source": [
    "# hardcode bins to make each bin roughly equal in size\n",
    "bins = [0.0, 0.02, 0.065, .15, .3, .6, 60]\n",
    "n, bins, patches = plt.hist(rain_measurements, bins=bins)\n",
    "plt.axis([0, 3, 0, max(n)])"
   ]
  },
  {
   "cell_type": "code",
   "execution_count": 9,
   "metadata": {
    "collapsed": false
   },
   "outputs": [],
   "source": [
    "# get dictionary from muni -> df to just muni -> rain measurements and muni -> discrete levels\n",
    "rain_discrete = {}\n",
    "rain_measure = {}\n",
    "for muni in dd:\n",
    "    rain_measure[muni] = dd[muni].PrecipitationIn.values\n",
    "    rain_discrete[muni] = np.digitize(dd[muni].PrecipitationIn.values, bins)"
   ]
  },
  {
   "cell_type": "code",
   "execution_count": 10,
   "metadata": {
    "collapsed": true
   },
   "outputs": [],
   "source": [
    "# helper function for k2, given some dictionary of municipality -> precip bucket\n",
    "# counts number of instances in the dataset\n",
    "def num_instances(muni_dict):\n",
    "    instances = 0\n",
    "    for idx in range(num_measurements):\n",
    "        isInstance = True\n",
    "        for muni in muni_dict:\n",
    "            if rain_discrete[muni][idx] != muni_dict[muni]:\n",
    "                isInstance = False\n",
    "                break\n",
    "        if isInstance:\n",
    "            instances += 1\n",
    "    return instances\n",
    "\n",
    "# helper function for k2, calculate probability of some municipality and list of parents\n",
    "def log_probability(muni, parents):\n",
    "    p = 0\n",
    "    permutations = product(range(len(bins)), repeat=len(parents))\n",
    "    for permutation in permutations:\n",
    "        total_instances = 0\n",
    "        muni_dict = dict(zip(parents, list(permutation)))\n",
    "        for k in range(len(bins)):\n",
    "            muni_dict[muni] = k\n",
    "            instances = num_instances(muni_dict)\n",
    "            total_instances += instances\n",
    "            p += np.sum(list(map(lambda x: np.log(x), range(1, instances))))\n",
    "        p += np.sum(list(map(lambda x: np.log(x), range(1, len(bins) - 1))))\n",
    "        p -= np.sum(list(map(lambda x: np.log(x), range(1, total_instances + len(bins) - 1))))\n",
    "    return p"
   ]
  },
  {
   "cell_type": "markdown",
   "metadata": {
    "collapsed": true
   },
   "source": [
    "merge here"
   ]
  },
  {
   "cell_type": "markdown",
   "metadata": {},
   "source": [
    "#### get ordering of nodes based on some measure"
   ]
  },
  {
   "cell_type": "code",
   "execution_count": 36,
   "metadata": {
    "collapsed": false
   },
   "outputs": [],
   "source": [
    "# create ordering dictionary (asc)\n",
    "ord_dict = {}\n",
    "\n",
    "for key1 in ds.munis.keys():\n",
    "    ord_dict[key1] = []\n",
    "    for key2 in ds.munis.keys():\n",
    "        if key1 == key2:\n",
    "            continue\n",
    "        ord_dict[key1].append( (np.corrcoef(rain_measure[key1], rain_measure[key2])[1][0], key2) )\n",
    "    # sort desc after closeness of ordering\n",
    "    ord_dict[key1] = sorted(ord_dict[key1], key=lambda tup: -tup[0])"
   ]
  },
  {
   "cell_type": "code",
   "execution_count": 37,
   "metadata": {
    "collapsed": false
   },
   "outputs": [
    {
     "data": {
      "text/plain": [
       "{'KBAF': [(0.64296597810727019, 'KOWD'),\n",
       "  (0.62281029948792288, 'KPSF'),\n",
       "  (0.58648514204385271, 'KORH'),\n",
       "  (0.55418981955925828, 'KBED'),\n",
       "  (0.53103930303250102, 'KLWM'),\n",
       "  (0.50859596495362447, 'KPYM'),\n",
       "  (0.49439229602348106, 'KEWB'),\n",
       "  (0.45920264194886218, 'KBOS'),\n",
       "  (0.25389866057367216, 'KCEF')],\n",
       " 'KBED': [(0.66091779568761466, 'KOWD'),\n",
       "  (0.65004337814328439, 'KLWM'),\n",
       "  (0.6219299054451588, 'KBOS'),\n",
       "  (0.61607105408308382, 'KORH'),\n",
       "  (0.5773069254725961, 'KEWB'),\n",
       "  (0.55418981955925828, 'KBAF'),\n",
       "  (0.54566132291312952, 'KPYM'),\n",
       "  (0.49536763570352943, 'KPSF'),\n",
       "  (0.24045370499339075, 'KCEF')],\n",
       " 'KBOS': [(0.68215568742883859, 'KORH'),\n",
       "  (0.67747732313717102, 'KLWM'),\n",
       "  (0.6219299054451588, 'KBED'),\n",
       "  (0.59748133016225091, 'KPYM'),\n",
       "  (0.58911980101381334, 'KOWD'),\n",
       "  (0.56681598294955027, 'KEWB'),\n",
       "  (0.45920264194886212, 'KBAF'),\n",
       "  (0.41118321993769319, 'KPSF'),\n",
       "  (0.19878199994182918, 'KCEF')],\n",
       " 'KCEF': [(0.26609608630334802, 'KORH'),\n",
       "  (0.25389866057367216, 'KBAF'),\n",
       "  (0.24045370499339078, 'KBED'),\n",
       "  (0.20943559837571624, 'KPSF'),\n",
       "  (0.19878199994182918, 'KBOS'),\n",
       "  (0.18088084101373911, 'KLWM'),\n",
       "  (0.17414083608841763, 'KOWD'),\n",
       "  (0.15837422998582043, 'KPYM'),\n",
       "  (0.15805081213455785, 'KEWB')],\n",
       " 'KEWB': [(0.70946561317247037, 'KPYM'),\n",
       "  (0.62555758264844963, 'KOWD'),\n",
       "  (0.59385003718702722, 'KLWM'),\n",
       "  (0.5773069254725961, 'KBED'),\n",
       "  (0.56681598294955027, 'KBOS'),\n",
       "  (0.52873477380403922, 'KORH'),\n",
       "  (0.49439229602348106, 'KBAF'),\n",
       "  (0.4523370865365538, 'KPSF'),\n",
       "  (0.15805081213455785, 'KCEF')],\n",
       " 'KLWM': [(0.67747732313717102, 'KBOS'),\n",
       "  (0.65004337814328439, 'KBED'),\n",
       "  (0.63804725232107062, 'KORH'),\n",
       "  (0.62487361819026133, 'KPYM'),\n",
       "  (0.6060154147186142, 'KOWD'),\n",
       "  (0.59385003718702722, 'KEWB'),\n",
       "  (0.53103930303250102, 'KBAF'),\n",
       "  (0.5241805937313424, 'KPSF'),\n",
       "  (0.18088084101373911, 'KCEF')],\n",
       " 'KORH': [(0.68215568742883859, 'KBOS'),\n",
       "  (0.63804725232107062, 'KLWM'),\n",
       "  (0.61607105408308382, 'KBED'),\n",
       "  (0.58648514204385271, 'KBAF'),\n",
       "  (0.5439226000067614, 'KPSF'),\n",
       "  (0.54285173552232013, 'KOWD'),\n",
       "  (0.5287347738040391, 'KEWB'),\n",
       "  (0.52117225026499392, 'KPYM'),\n",
       "  (0.26609608630334802, 'KCEF')],\n",
       " 'KOWD': [(0.72416625257419076, 'KPYM'),\n",
       "  (0.66091779568761466, 'KBED'),\n",
       "  (0.64296597810727019, 'KBAF'),\n",
       "  (0.62555758264844952, 'KEWB'),\n",
       "  (0.6060154147186142, 'KLWM'),\n",
       "  (0.58911980101381334, 'KBOS'),\n",
       "  (0.54285173552232013, 'KORH'),\n",
       "  (0.41092781447084498, 'KPSF'),\n",
       "  (0.17414083608841763, 'KCEF')],\n",
       " 'KPSF': [(0.62281029948792288, 'KBAF'),\n",
       "  (0.5439226000067614, 'KORH'),\n",
       "  (0.5241805937313424, 'KLWM'),\n",
       "  (0.49536763570352943, 'KBED'),\n",
       "  (0.4523370865365538, 'KEWB'),\n",
       "  (0.41118321993769313, 'KBOS'),\n",
       "  (0.41092781447084503, 'KOWD'),\n",
       "  (0.36277523730815242, 'KPYM'),\n",
       "  (0.20943559837571626, 'KCEF')],\n",
       " 'KPYM': [(0.72416625257419076, 'KOWD'),\n",
       "  (0.70946561317247026, 'KEWB'),\n",
       "  (0.62487361819026133, 'KLWM'),\n",
       "  (0.59748133016225091, 'KBOS'),\n",
       "  (0.54566132291312952, 'KBED'),\n",
       "  (0.52117225026499392, 'KORH'),\n",
       "  (0.50859596495362447, 'KBAF'),\n",
       "  (0.36277523730815242, 'KPSF'),\n",
       "  (0.15837422998582043, 'KCEF')]}"
      ]
     },
     "execution_count": 37,
     "metadata": {},
     "output_type": "execute_result"
    }
   ],
   "source": [
    "ord_dict"
   ]
  },
  {
   "cell_type": "code",
   "execution_count": 38,
   "metadata": {
    "collapsed": true
   },
   "outputs": [],
   "source": [
    "# base ordering on std of precipitation\n",
    "node_ordering = []\n",
    "for key in ds.munis.keys():\n",
    "    node_ordering.append( (rain_measure[key].std(), key) )\n",
    "node_ordering = sorted(node_ordering, key=lambda tup: -tup[0])"
   ]
  },
  {
   "cell_type": "code",
   "execution_count": 39,
   "metadata": {
    "collapsed": false
   },
   "outputs": [
    {
     "data": {
      "text/plain": [
       "[(0.57766956275458781, 'KCEF'),\n",
       " (0.36272250755856011, 'KPYM'),\n",
       " (0.34406386459128446, 'KORH'),\n",
       " (0.34334857721387585, 'KBOS'),\n",
       " (0.33867331763656389, 'KEWB'),\n",
       " (0.32925204164891697, 'KBAF'),\n",
       " (0.31699754184562989, 'KLWM'),\n",
       " (0.3125999018598079, 'KOWD'),\n",
       " (0.27834420479979599, 'KPSF'),\n",
       " (0.25115109997589141, 'KBED')]"
      ]
     },
     "execution_count": 39,
     "metadata": {},
     "output_type": "execute_result"
    }
   ],
   "source": [
    "node_ordering"
   ]
  },
  {
   "cell_type": "markdown",
   "metadata": {},
   "source": [
    "merge end"
   ]
  },
  {
   "cell_type": "code",
   "execution_count": null,
   "metadata": {
    "collapsed": true
   },
   "outputs": [],
   "source": []
  }
 ],
 "metadata": {
  "kernelspec": {
   "display_name": "Python 3",
   "language": "python",
   "name": "python3"
  },
  "language_info": {
   "codemirror_mode": {
    "name": "ipython",
    "version": 3
   },
   "file_extension": ".py",
   "mimetype": "text/x-python",
   "name": "python",
   "nbconvert_exporter": "python",
   "pygments_lexer": "ipython3",
   "version": "3.5.1"
  }
 },
 "nbformat": 4,
 "nbformat_minor": 0
}
